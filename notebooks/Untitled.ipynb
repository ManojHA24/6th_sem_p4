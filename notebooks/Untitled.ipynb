{
 "cells": [
  {
   "cell_type": "code",
   "execution_count": 9,
   "id": "2928aa82",
   "metadata": {},
   "outputs": [
    {
     "name": "stdout",
     "output_type": "stream",
     "text": [
      "Hello\n",
      "\n",
      "world\n"
     ]
    }
   ],
   "source": [
    "#li = [1,2,3,4]\n",
    "\n",
    "def num(li):\n",
    "    return print(li)\n",
    "\n",
    "def num1(l):\n",
    "    return print(l)\n",
    "\n",
    "num(\"Hello\\n\")\n",
    "num1(\"world\")"
   ]
  },
  {
   "cell_type": "code",
   "execution_count": 17,
   "id": "e69b9158",
   "metadata": {},
   "outputs": [
    {
     "name": "stdout",
     "output_type": "stream",
     "text": [
      "Enter CM111\n"
     ]
    },
    {
     "data": {
      "text/plain": [
       "1.11"
      ]
     },
     "execution_count": 17,
     "metadata": {},
     "output_type": "execute_result"
    }
   ],
   "source": [
    "#Write a number to convert cm to m \n",
    "cm=float(input(\"Enter CM\"))\n",
    "\n",
    "def convert(cm):\n",
    "    return round(cm/100,2)\n",
    "\n",
    "convert(cm)"
   ]
  },
  {
   "cell_type": "code",
   "execution_count": 18,
   "id": "2e033a89",
   "metadata": {},
   "outputs": [
    {
     "name": "stdout",
     "output_type": "stream",
     "text": [
      "0.1\n"
     ]
    }
   ],
   "source": [
    "#write a lambda function\n",
    "\n",
    "x=lambda  cm : cm/100\n",
    "print(x(10))"
   ]
  },
  {
   "cell_type": "code",
   "execution_count": null,
   "id": "05e74463",
   "metadata": {},
   "outputs": [],
   "source": [
    "#Swap numbers\n",
    "\n",
    "a,b=int(input(\"Enter CM\"))\n",
    "b=int(input(\"Enter CM\"))\n",
    "\n",
    "def swap(a,b):\n",
    "    temp=a\n",
    "    a=b\n",
    "    b=temp\n",
    "\n",
    "    print(a,b)\n",
    "    \n",
    "swap(a,b)"
   ]
  },
  {
   "cell_type": "code",
   "execution_count": null,
   "id": "1ec2772d",
   "metadata": {},
   "outputs": [],
   "source": []
  }
 ],
 "metadata": {
  "kernelspec": {
   "display_name": "Python 3",
   "language": "python",
   "name": "python3"
  },
  "language_info": {
   "codemirror_mode": {
    "name": "ipython",
    "version": 3
   },
   "file_extension": ".py",
   "mimetype": "text/x-python",
   "name": "python",
   "nbconvert_exporter": "python",
   "pygments_lexer": "ipython3",
   "version": "3.8.8"
  }
 },
 "nbformat": 4,
 "nbformat_minor": 5
}
